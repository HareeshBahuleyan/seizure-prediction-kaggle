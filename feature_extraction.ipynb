{
 "cells": [
  {
   "cell_type": "code",
   "execution_count": 4,
   "metadata": {
    "collapsed": true
   },
   "outputs": [],
   "source": [
    "import numpy as np\n",
    "import scipy.io\n",
    "from scipy.io import loadmat  # this is the SciPy module that loads mat-files\n",
    "from scipy import signal\n",
    "import pandas as pd\n",
    "import itertools\n",
    "import os\n",
    "from scipy.stats import skew, kurtosis\n",
    "from scipy.signal import correlate, resample, periodogram\n",
    "from scipy.fftpack import fft\n",
    "import matplotlib.pyplot as plt\n",
    "import pyeeg\n",
    "%matplotlib inline"
   ]
  },
  {
   "cell_type": "markdown",
   "metadata": {},
   "source": [
    "Specify the directory where all the Kaggle .mat files are present"
   ]
  },
  {
   "cell_type": "code",
   "execution_count": 5,
   "metadata": {
    "collapsed": true
   },
   "outputs": [],
   "source": [
    "base_dir = '/data_dir/Kaggle_data/train_1/'"
   ]
  },
  {
   "cell_type": "markdown",
   "metadata": {},
   "source": [
    "Function to get class label from filename. If filename is I_J_K.mat, class is 'K'"
   ]
  },
  {
   "cell_type": "code",
   "execution_count": 6,
   "metadata": {
    "collapsed": true
   },
   "outputs": [],
   "source": [
    "def get_class_label_from_name(name):\n",
    "    try:\n",
    "        return int(name[-5])\n",
    "    except:\n",
    "        return 0"
   ]
  },
  {
   "cell_type": "markdown",
   "metadata": {},
   "source": [
    "Get the list of all files and their corresponding class labels. Store them into a pandas dataframe."
   ]
  },
  {
   "cell_type": "code",
   "execution_count": 7,
   "metadata": {
    "collapsed": true
   },
   "outputs": [],
   "source": [
    "def get_file_names_and_class_labels(base_dir):\n",
    "    ignored_files = ['1_45_1.mat']\n",
    "    \n",
    "    return np.array(\n",
    "        [\n",
    "            (file, get_class_label_from_name(file)) \n",
    "            for file in os.listdir(base_dir) if file not in ignored_files\n",
    "        ],\n",
    "        dtype=[('file_name', '|S16'), ('class_label', 'int')]\n",
    "    )\n",
    "\n",
    "data_files = pd.DataFrame(get_file_names_and_class_labels(base_dir))\n",
    "# data_files = data_files.head(6)"
   ]
  },
  {
   "cell_type": "markdown",
   "metadata": {},
   "source": [
    "<br>Function to extract features from the directory of .mat files. Need to do this individually twice for each patient - once for test and once for train.\n",
    "<br>For test set features, the function needs to be modified a bit - remove 'class_label' and alter code accordingly"
   ]
  },
  {
   "cell_type": "code",
   "execution_count": 8,
   "metadata": {
    "collapsed": true
   },
   "outputs": [],
   "source": [
    "def get_features_from_files(base_dir, data_files):\n",
    "    data_files.reset_index(drop=True,inplace=True)\n",
    "    total_files = len(data_files['file_name'])\n",
    "\n",
    "    column_names = ['file_name','class_label'] + range(1,231)  #The total number of features is 231\n",
    "\n",
    "    rows = np.zeros(232)\n",
    "    files = []\n",
    "    approximator = lambda x: round(x, 4) #4 Decimal Places \n",
    "\n",
    "    for k, filename in enumerate(data_files['file_name']):\n",
    "        print filename\n",
    "        try:\n",
    "            mat_data = scipy.io.loadmat(''.join([base_dir, filename.decode('UTF-8')]))\n",
    "        except ValueError as ex:\n",
    "            print(u'Error loading MAT file {}: {}'.format(filename, str(ex)))\n",
    "            continue\n",
    "\n",
    "        channels_data = mat_data['dataStruct'][0][0][0].transpose()\n",
    "        channels_data = resample(channels_data, 600, axis=1, window=400)\n",
    "        df_reduced_data = pd.DataFrame(channels_data.transpose())\n",
    "\n",
    "        l = [df_reduced_data.var(axis=0)] + [df_reduced_data.min(axis=0)] + [df_reduced_data.max(axis=0)] + [df_reduced_data.kurtosis(axis=0)]\n",
    "        l = [item for sublist in l for item in sublist]\n",
    "\n",
    "        # SVD\n",
    "        U, s, V = np.linalg.svd(channels_data)\n",
    "        l.append(s[0]) # Highest eigenvalues of X*X_transpose\n",
    "\n",
    "        # Pearson Correlation Matrix\n",
    "        ev1 = [np.linalg.eigvals(np.corrcoef(channels_data))[:3]] # 3 highest eigenvalues of the correlations matrix\n",
    "\n",
    "        # 3 highest eigenvalues of the correlations matrix in after differeniating\n",
    "        ev2 = [np.linalg.eigvals(np.corrcoef(np.diff(channels_data)))[:3]] \n",
    "\n",
    "        l += [item for sublist in ev1 for item in sublist] + [item for sublist in ev2 for item in sublist]\n",
    "\n",
    "        # Frequency Domain Features\n",
    "        f = []\n",
    "        for channel in df_reduced_data.columns:\n",
    "            # Highest amplitude after FFT\n",
    "            y = fft(df_reduced_data[channel])\n",
    "            f.append(np.max(abs(y)))\n",
    "\n",
    "            # Highest power from periodogram\n",
    "            f.append(np.max(signal.periodogram(df_reduced_data[channel], fs = 1.0)[1]))\n",
    "            f.append(np.max(signal.welch(df_reduced_data[channel], fs = 1.0)[1]))\n",
    "\n",
    "        # Features Using PyEEG package\n",
    "            f.append(pyeeg.spectral_entropy(df_reduced_data[channel], Band=[0.5,4,7,12,30], Fs=400))\n",
    "            f.append(pyeeg.hfd(df_reduced_data[channel], Kmax=3))\n",
    "            f.append(pyeeg.hurst(df_reduced_data[channel]))\n",
    "            power_list = [pyeeg.bin_power(df_reduced_data[channel], Band=[0.5,4,7,12,30], Fs=400)[0]]\n",
    "            f += [item for sublist in power_list for item in sublist]\n",
    "\n",
    "        files.append(filename)\n",
    "        rows = np.vstack([rows, np.asarray([data_files.loc[k,'class_label']] + map(approximator, l) + map(approximator, f))])\n",
    "\n",
    "    return pd.DataFrame(rows[1:], index=files, columns=column_names)\n"
   ]
  },
  {
   "cell_type": "code",
   "execution_count": 10,
   "metadata": {
    "collapsed": false
   },
   "outputs": [
    {
     "name": "stdout",
     "output_type": "stream",
     "text": [
      "1_1_0.mat\n",
      "1_27_1.mat\n",
      "1_28_0.mat\n",
      "1_28_1.mat\n",
      "1_29_0.mat\n",
      "1_29_1.mat\n"
     ]
    },
    {
     "data": {
      "text/html": [
       "<div>\n",
       "<table border=\"1\" class=\"dataframe\">\n",
       "  <thead>\n",
       "    <tr style=\"text-align: right;\">\n",
       "      <th></th>\n",
       "      <th>class_label</th>\n",
       "      <th>1</th>\n",
       "      <th>2</th>\n",
       "      <th>3</th>\n",
       "      <th>4</th>\n",
       "      <th>5</th>\n",
       "      <th>6</th>\n",
       "      <th>7</th>\n",
       "      <th>8</th>\n",
       "      <th>9</th>\n",
       "      <th>...</th>\n",
       "      <th>222</th>\n",
       "      <th>223</th>\n",
       "      <th>224</th>\n",
       "      <th>225</th>\n",
       "      <th>226</th>\n",
       "      <th>227</th>\n",
       "      <th>228</th>\n",
       "      <th>229</th>\n",
       "      <th>230</th>\n",
       "      <th>231</th>\n",
       "    </tr>\n",
       "  </thead>\n",
       "  <tbody>\n",
       "    <tr>\n",
       "      <th>1_1_0.mat</th>\n",
       "      <td>0.0</td>\n",
       "      <td>119.6939</td>\n",
       "      <td>165.6753</td>\n",
       "      <td>266.6734</td>\n",
       "      <td>326.3780</td>\n",
       "      <td>43.5583</td>\n",
       "      <td>32.8379</td>\n",
       "      <td>98.3330</td>\n",
       "      <td>46.9773</td>\n",
       "      <td>40.3890</td>\n",
       "      <td>...</td>\n",
       "      <td>839.6885</td>\n",
       "      <td>2350.2561</td>\n",
       "      <td>1154.2714</td>\n",
       "      <td>0.4472</td>\n",
       "      <td>1.2132</td>\n",
       "      <td>0.5553</td>\n",
       "      <td>572.1608</td>\n",
       "      <td>844.9935</td>\n",
       "      <td>1820.2629</td>\n",
       "      <td>8696.9406</td>\n",
       "    </tr>\n",
       "    <tr>\n",
       "      <th>1_27_1.mat</th>\n",
       "      <td>1.0</td>\n",
       "      <td>39.9622</td>\n",
       "      <td>457.5700</td>\n",
       "      <td>82.9113</td>\n",
       "      <td>851.8883</td>\n",
       "      <td>31.9449</td>\n",
       "      <td>91.6332</td>\n",
       "      <td>14.0493</td>\n",
       "      <td>12.7454</td>\n",
       "      <td>16.9459</td>\n",
       "      <td>...</td>\n",
       "      <td>341.3915</td>\n",
       "      <td>388.4938</td>\n",
       "      <td>359.1828</td>\n",
       "      <td>0.4224</td>\n",
       "      <td>1.1184</td>\n",
       "      <td>0.4589</td>\n",
       "      <td>217.2792</td>\n",
       "      <td>255.7865</td>\n",
       "      <td>843.6824</td>\n",
       "      <td>3731.0044</td>\n",
       "    </tr>\n",
       "    <tr>\n",
       "      <th>1_28_0.mat</th>\n",
       "      <td>0.0</td>\n",
       "      <td>47.4328</td>\n",
       "      <td>84.6067</td>\n",
       "      <td>49.9810</td>\n",
       "      <td>263.7914</td>\n",
       "      <td>18.5673</td>\n",
       "      <td>12.3646</td>\n",
       "      <td>167.9340</td>\n",
       "      <td>18.0344</td>\n",
       "      <td>35.0716</td>\n",
       "      <td>...</td>\n",
       "      <td>661.5663</td>\n",
       "      <td>1458.8999</td>\n",
       "      <td>258.0272</td>\n",
       "      <td>0.4457</td>\n",
       "      <td>1.4922</td>\n",
       "      <td>0.4742</td>\n",
       "      <td>694.2276</td>\n",
       "      <td>556.6255</td>\n",
       "      <td>1177.9987</td>\n",
       "      <td>7029.0275</td>\n",
       "    </tr>\n",
       "    <tr>\n",
       "      <th>1_28_1.mat</th>\n",
       "      <td>1.0</td>\n",
       "      <td>45.0802</td>\n",
       "      <td>434.8464</td>\n",
       "      <td>96.0170</td>\n",
       "      <td>914.1308</td>\n",
       "      <td>37.2973</td>\n",
       "      <td>90.6659</td>\n",
       "      <td>20.0891</td>\n",
       "      <td>11.0359</td>\n",
       "      <td>14.6380</td>\n",
       "      <td>...</td>\n",
       "      <td>386.6431</td>\n",
       "      <td>498.3095</td>\n",
       "      <td>220.3179</td>\n",
       "      <td>0.5288</td>\n",
       "      <td>1.0533</td>\n",
       "      <td>0.4319</td>\n",
       "      <td>335.9179</td>\n",
       "      <td>441.9816</td>\n",
       "      <td>1263.2590</td>\n",
       "      <td>3115.2229</td>\n",
       "    </tr>\n",
       "    <tr>\n",
       "      <th>1_29_0.mat</th>\n",
       "      <td>0.0</td>\n",
       "      <td>95.3417</td>\n",
       "      <td>239.5643</td>\n",
       "      <td>123.2621</td>\n",
       "      <td>371.0513</td>\n",
       "      <td>41.6245</td>\n",
       "      <td>25.6030</td>\n",
       "      <td>75.6389</td>\n",
       "      <td>32.0368</td>\n",
       "      <td>38.6090</td>\n",
       "      <td>...</td>\n",
       "      <td>1296.6206</td>\n",
       "      <td>5604.0832</td>\n",
       "      <td>2667.5222</td>\n",
       "      <td>0.4015</td>\n",
       "      <td>1.1792</td>\n",
       "      <td>0.4646</td>\n",
       "      <td>578.4940</td>\n",
       "      <td>457.1658</td>\n",
       "      <td>2864.2802</td>\n",
       "      <td>10661.4512</td>\n",
       "    </tr>\n",
       "  </tbody>\n",
       "</table>\n",
       "<p>5 rows × 232 columns</p>\n",
       "</div>"
      ],
      "text/plain": [
       "            class_label         1         2         3         4        5  \\\n",
       "1_1_0.mat           0.0  119.6939  165.6753  266.6734  326.3780  43.5583   \n",
       "1_27_1.mat          1.0   39.9622  457.5700   82.9113  851.8883  31.9449   \n",
       "1_28_0.mat          0.0   47.4328   84.6067   49.9810  263.7914  18.5673   \n",
       "1_28_1.mat          1.0   45.0802  434.8464   96.0170  914.1308  37.2973   \n",
       "1_29_0.mat          0.0   95.3417  239.5643  123.2621  371.0513  41.6245   \n",
       "\n",
       "                  6         7        8        9     ...            222  \\\n",
       "1_1_0.mat   32.8379   98.3330  46.9773  40.3890     ...       839.6885   \n",
       "1_27_1.mat  91.6332   14.0493  12.7454  16.9459     ...       341.3915   \n",
       "1_28_0.mat  12.3646  167.9340  18.0344  35.0716     ...       661.5663   \n",
       "1_28_1.mat  90.6659   20.0891  11.0359  14.6380     ...       386.6431   \n",
       "1_29_0.mat  25.6030   75.6389  32.0368  38.6090     ...      1296.6206   \n",
       "\n",
       "                  223        224     225     226     227       228       229  \\\n",
       "1_1_0.mat   2350.2561  1154.2714  0.4472  1.2132  0.5553  572.1608  844.9935   \n",
       "1_27_1.mat   388.4938   359.1828  0.4224  1.1184  0.4589  217.2792  255.7865   \n",
       "1_28_0.mat  1458.8999   258.0272  0.4457  1.4922  0.4742  694.2276  556.6255   \n",
       "1_28_1.mat   498.3095   220.3179  0.5288  1.0533  0.4319  335.9179  441.9816   \n",
       "1_29_0.mat  5604.0832  2667.5222  0.4015  1.1792  0.4646  578.4940  457.1658   \n",
       "\n",
       "                  230         231  \n",
       "1_1_0.mat   1820.2629   8696.9406  \n",
       "1_27_1.mat   843.6824   3731.0044  \n",
       "1_28_0.mat  1177.9987   7029.0275  \n",
       "1_28_1.mat  1263.2590   3115.2229  \n",
       "1_29_0.mat  2864.2802  10661.4512  \n",
       "\n",
       "[5 rows x 232 columns]"
      ]
     },
     "execution_count": 10,
     "metadata": {},
     "output_type": "execute_result"
    }
   ],
   "source": [
    "df_features = get_features_from_files(base_dir, data_files)\n",
    "df_features.columns = ['class_label'] + range(1,df_features.shape[1])\n",
    "df_features.head()"
   ]
  },
  {
   "cell_type": "code",
   "execution_count": 11,
   "metadata": {
    "collapsed": true
   },
   "outputs": [],
   "source": [
    "df_features.to_csv(\"train_1.csv\", index=False)"
   ]
  },
  {
   "cell_type": "code",
   "execution_count": null,
   "metadata": {
    "collapsed": true
   },
   "outputs": [],
   "source": []
  }
 ],
 "metadata": {
  "kernelspec": {
   "display_name": "Python 2",
   "language": "python",
   "name": "python2"
  },
  "language_info": {
   "codemirror_mode": {
    "name": "ipython",
    "version": 2
   },
   "file_extension": ".py",
   "mimetype": "text/x-python",
   "name": "python",
   "nbconvert_exporter": "python",
   "pygments_lexer": "ipython2",
   "version": "2.7.12"
  }
 },
 "nbformat": 4,
 "nbformat_minor": 1
}
